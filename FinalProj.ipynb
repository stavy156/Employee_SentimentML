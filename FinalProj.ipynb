{
 "cells": [
  {
   "cell_type": "markdown",
   "id": "31f2b6e1-fb26-430d-8fb0-e589eb8c36ac",
   "metadata": {},
   "source": [
    "# Employee Sentiment Analysis Project\n",
    "\n",
    "# --------------------------\n",
    "# 1. Imports and Setup\n",
    "# --------------------------"
   ]
  },
  {
   "cell_type": "code",
   "execution_count": 2,
   "id": "2ba80688-285d-4aff-b493-bbe1ff3f907f",
   "metadata": {},
   "outputs": [],
   "source": [
    "import pandas as pd\n",
    "import numpy as np\n",
    "import matplotlib.pyplot as plt\n",
    "import seaborn as sns\n",
    "import datetime as dt\n",
    "from transformers import pipeline\n",
    "from sklearn.linear_model import LinearRegression\n",
    "from sklearn.model_selection import train_test_split\n",
    "from sklearn.metrics import mean_absolute_error\n",
    "import os\n",
    "from transformers import pipeline"
   ]
  },
  {
   "cell_type": "markdown",
   "id": "e7c73e3a-0bfa-4518-addc-522135ba214c",
   "metadata": {},
   "source": [
    "# --------------------------\n",
    "# 📂 2. Load Data\n",
    "# --------------------------"
   ]
  },
  {
   "cell_type": "code",
   "execution_count": 54,
   "id": "d6e62d04-6d46-490a-befc-ade07941bf50",
   "metadata": {},
   "outputs": [
    {
     "name": "stdout",
     "output_type": "stream",
     "text": [
      "Data loaded successfully.\n"
     ]
    },
    {
     "data": {
      "text/html": [
       "<div>\n",
       "<style scoped>\n",
       "    .dataframe tbody tr th:only-of-type {\n",
       "        vertical-align: middle;\n",
       "    }\n",
       "\n",
       "    .dataframe tbody tr th {\n",
       "        vertical-align: top;\n",
       "    }\n",
       "\n",
       "    .dataframe thead th {\n",
       "        text-align: right;\n",
       "    }\n",
       "</style>\n",
       "<table border=\"1\" class=\"dataframe\">\n",
       "  <thead>\n",
       "    <tr style=\"text-align: right;\">\n",
       "      <th></th>\n",
       "      <th>Subject</th>\n",
       "      <th>body</th>\n",
       "      <th>date</th>\n",
       "      <th>from</th>\n",
       "      <th>employee</th>\n",
       "    </tr>\n",
       "  </thead>\n",
       "  <tbody>\n",
       "    <tr>\n",
       "      <th>0</th>\n",
       "      <td>EnronOptions Update!</td>\n",
       "      <td>EnronOptions Announcement\\n\\n\\nWe have updated...</td>\n",
       "      <td>5/10/2010</td>\n",
       "      <td>sally.beck@enron.com</td>\n",
       "      <td>sally beck</td>\n",
       "    </tr>\n",
       "    <tr>\n",
       "      <th>1</th>\n",
       "      <td>(No Subject)</td>\n",
       "      <td>Marc,\\n\\nUnfortunately, today is not going to ...</td>\n",
       "      <td>7/29/2010</td>\n",
       "      <td>eric.bass@enron.com</td>\n",
       "      <td>eric bass</td>\n",
       "    </tr>\n",
       "    <tr>\n",
       "      <th>2</th>\n",
       "      <td>Phone Screen  Interview - Shannon L. Burnham</td>\n",
       "      <td>When: Wednesday, June 06, 2001 10:00 AM-11:00 ...</td>\n",
       "      <td>7/25/2011</td>\n",
       "      <td>sally.beck@enron.com</td>\n",
       "      <td>sally beck</td>\n",
       "    </tr>\n",
       "    <tr>\n",
       "      <th>3</th>\n",
       "      <td>RE: My new work email</td>\n",
       "      <td>we were thinking papasitos (we can meet somewh...</td>\n",
       "      <td>3/25/2010</td>\n",
       "      <td>johnny.palmer@enron.com</td>\n",
       "      <td>johnny palmer</td>\n",
       "    </tr>\n",
       "    <tr>\n",
       "      <th>4</th>\n",
       "      <td>Bet</td>\n",
       "      <td>Since you never gave me the $20 for the last t...</td>\n",
       "      <td>5/21/2011</td>\n",
       "      <td>lydia.delgado@enron.com</td>\n",
       "      <td>lydia delgado</td>\n",
       "    </tr>\n",
       "  </tbody>\n",
       "</table>\n",
       "</div>"
      ],
      "text/plain": [
       "                                        Subject  \\\n",
       "0                          EnronOptions Update!   \n",
       "1                                  (No Subject)   \n",
       "2  Phone Screen  Interview - Shannon L. Burnham   \n",
       "3                         RE: My new work email   \n",
       "4                                           Bet   \n",
       "\n",
       "                                                body       date  \\\n",
       "0  EnronOptions Announcement\\n\\n\\nWe have updated...  5/10/2010   \n",
       "1  Marc,\\n\\nUnfortunately, today is not going to ...  7/29/2010   \n",
       "2  When: Wednesday, June 06, 2001 10:00 AM-11:00 ...  7/25/2011   \n",
       "3  we were thinking papasitos (we can meet somewh...  3/25/2010   \n",
       "4  Since you never gave me the $20 for the last t...  5/21/2011   \n",
       "\n",
       "                      from       employee  \n",
       "0     sally.beck@enron.com     sally beck  \n",
       "1      eric.bass@enron.com      eric bass  \n",
       "2     sally.beck@enron.com     sally beck  \n",
       "3  johnny.palmer@enron.com  johnny palmer  \n",
       "4  lydia.delgado@enron.com  lydia delgado  "
      ]
     },
     "execution_count": 54,
     "metadata": {},
     "output_type": "execute_result"
    }
   ],
   "source": [
    "df = pd.read_csv(\"datasets/test.csv\")  # Ensure file is in correct path\n",
    "print(\"Data loaded successfully.\")\n",
    "df['employee'] = df['from'].apply(lambda x: ' '.join(x.split('@')[0].split('.')))\n",
    "df.head()"
   ]
  },
  {
   "cell_type": "code",
   "execution_count": 55,
   "id": "687459cd-d5b7-483c-82d9-6e912dfec8df",
   "metadata": {},
   "outputs": [
    {
     "data": {
      "text/html": [
       "<div>\n",
       "<style scoped>\n",
       "    .dataframe tbody tr th:only-of-type {\n",
       "        vertical-align: middle;\n",
       "    }\n",
       "\n",
       "    .dataframe tbody tr th {\n",
       "        vertical-align: top;\n",
       "    }\n",
       "\n",
       "    .dataframe thead th {\n",
       "        text-align: right;\n",
       "    }\n",
       "</style>\n",
       "<table border=\"1\" class=\"dataframe\">\n",
       "  <thead>\n",
       "    <tr style=\"text-align: right;\">\n",
       "      <th></th>\n",
       "      <th>Subject</th>\n",
       "      <th>body</th>\n",
       "      <th>date</th>\n",
       "      <th>from</th>\n",
       "      <th>employee</th>\n",
       "    </tr>\n",
       "  </thead>\n",
       "  <tbody>\n",
       "    <tr>\n",
       "      <th>2186</th>\n",
       "      <td>Re: Resume</td>\n",
       "      <td>Thanks for the resume.  She has had some good ...</td>\n",
       "      <td>6/17/2011</td>\n",
       "      <td>johnny.palmer@enron.com</td>\n",
       "      <td>johnny palmer</td>\n",
       "    </tr>\n",
       "    <tr>\n",
       "      <th>2187</th>\n",
       "      <td>Final Schedule - Wednesday, May 2, 2001 - Jesu...</td>\n",
       "      <td>Attached please find the following documents:\\...</td>\n",
       "      <td>1/20/2011</td>\n",
       "      <td>johnny.palmer@enron.com</td>\n",
       "      <td>johnny palmer</td>\n",
       "    </tr>\n",
       "    <tr>\n",
       "      <th>2188</th>\n",
       "      <td>(No Subject)</td>\n",
       "      <td>Good to finally hear from.  Judging from your ...</td>\n",
       "      <td>1/2/2011</td>\n",
       "      <td>don.baughman@enron.com</td>\n",
       "      <td>don baughman</td>\n",
       "    </tr>\n",
       "    <tr>\n",
       "      <th>2189</th>\n",
       "      <td>League is Set</td>\n",
       "      <td>It looks like we have our 12 teams.  We will p...</td>\n",
       "      <td>3/11/2011</td>\n",
       "      <td>rhonda.denton@enron.com</td>\n",
       "      <td>rhonda denton</td>\n",
       "    </tr>\n",
       "    <tr>\n",
       "      <th>2190</th>\n",
       "      <td>AirCard Activation</td>\n",
       "      <td>We will need this, so I am sending it to you a...</td>\n",
       "      <td>10/30/2010</td>\n",
       "      <td>johnny.palmer@enron.com</td>\n",
       "      <td>johnny palmer</td>\n",
       "    </tr>\n",
       "  </tbody>\n",
       "</table>\n",
       "</div>"
      ],
      "text/plain": [
       "                                                Subject  \\\n",
       "2186                                         Re: Resume   \n",
       "2187  Final Schedule - Wednesday, May 2, 2001 - Jesu...   \n",
       "2188                                       (No Subject)   \n",
       "2189                                      League is Set   \n",
       "2190                                 AirCard Activation   \n",
       "\n",
       "                                                   body        date  \\\n",
       "2186  Thanks for the resume.  She has had some good ...   6/17/2011   \n",
       "2187  Attached please find the following documents:\\...   1/20/2011   \n",
       "2188  Good to finally hear from.  Judging from your ...    1/2/2011   \n",
       "2189  It looks like we have our 12 teams.  We will p...   3/11/2011   \n",
       "2190  We will need this, so I am sending it to you a...  10/30/2010   \n",
       "\n",
       "                         from       employee  \n",
       "2186  johnny.palmer@enron.com  johnny palmer  \n",
       "2187  johnny.palmer@enron.com  johnny palmer  \n",
       "2188   don.baughman@enron.com   don baughman  \n",
       "2189  rhonda.denton@enron.com  rhonda denton  \n",
       "2190  johnny.palmer@enron.com  johnny palmer  "
      ]
     },
     "execution_count": 55,
     "metadata": {},
     "output_type": "execute_result"
    }
   ],
   "source": [
    "df.tail(5)"
   ]
  },
  {
   "cell_type": "markdown",
   "id": "d7905ee8-d2cd-4b90-9d29-9cbc12f09217",
   "metadata": {},
   "source": [
    "# --------------------------\n",
    "# EDA - Structure\n",
    "# --------------------------"
   ]
  },
  {
   "cell_type": "code",
   "execution_count": 56,
   "id": "1f63cae5-0933-4732-a210-7e7d77393ff7",
   "metadata": {},
   "outputs": [
    {
     "name": "stdout",
     "output_type": "stream",
     "text": [
      "<class 'pandas.core.frame.DataFrame'>\n",
      "RangeIndex: 2191 entries, 0 to 2190\n",
      "Data columns (total 5 columns):\n",
      " #   Column    Non-Null Count  Dtype \n",
      "---  ------    --------------  ----- \n",
      " 0   Subject   2191 non-null   object\n",
      " 1   body      2191 non-null   object\n",
      " 2   date      2191 non-null   object\n",
      " 3   from      2191 non-null   object\n",
      " 4   employee  2191 non-null   object\n",
      "dtypes: object(5)\n",
      "memory usage: 85.7+ KB\n",
      "None\n",
      "Subject     0\n",
      "body        0\n",
      "date        0\n",
      "from        0\n",
      "employee    0\n",
      "dtype: int64\n"
     ]
    }
   ],
   "source": [
    "print(df.info())\n",
    "print(df.isnull().sum())\n",
    "df['timestamp'] = pd.to_datetime(df['date'])\n",
    "df['message_length'] = df['Subject'].apply(len)\n",
    "df['word_count'] = df['Subject'].apply(lambda x: len(x.split()))"
   ]
  },
  {
   "cell_type": "markdown",
   "id": "3574e161-5c1a-41ad-ab2a-972a109ed0f6",
   "metadata": {},
   "source": [
    "# --------------------------\n",
    "# Task 1 - Sentiment Labeling\n",
    "# --------------------------"
   ]
  },
  {
   "cell_type": "code",
   "execution_count": 57,
   "id": "4f854f16-0a95-4184-854e-d19d31b882c4",
   "metadata": {
    "scrolled": true
   },
   "outputs": [
    {
     "name": "stderr",
     "output_type": "stream",
     "text": [
      "No model was supplied, defaulted to distilbert/distilbert-base-uncased-finetuned-sst-2-english and revision 714eb0f (https://huggingface.co/distilbert/distilbert-base-uncased-finetuned-sst-2-english).\n",
      "Using a pipeline without specifying a model name and revision in production is not recommended.\n",
      "Device set to use cpu\n"
     ]
    }
   ],
   "source": [
    "classifier = pipeline(\"sentiment-analysis\",framework = \"pt\")\n"
   ]
  },
  {
   "cell_type": "code",
   "execution_count": 58,
   "id": "ddb716d4-56b5-4e32-9f94-155574fbe3e1",
   "metadata": {},
   "outputs": [],
   "source": [
    "# Helper function to map result to label\n",
    "def get_sentiment(text):\n",
    "    result = classifier(text[:512])[0]  # limit input size\n",
    "    if result['label'] == 'POSITIVE':\n",
    "        return 1\n",
    "    elif result['label'] == 'NEGATIVE':\n",
    "        return -1\n",
    "    else:\n",
    "        return 0"
   ]
  },
  {
   "cell_type": "code",
   "execution_count": 59,
   "id": "5bc301a5-b2bf-4809-a164-cd30dbd8dbfd",
   "metadata": {},
   "outputs": [],
   "source": [
    "df['sentiment'] = df['Subject'].apply(get_sentiment)\n",
    "df.to_csv(\"datasets/labeled_data.csv\", index=False)"
   ]
  },
  {
   "cell_type": "markdown",
   "id": "2a0a5bb4-da89-45a9-8472-6b324eb8987f",
   "metadata": {},
   "source": [
    "# --------------------------\n",
    "# Task 2 - EDA Visualization\n",
    "# --------------------------"
   ]
  },
  {
   "cell_type": "code",
   "execution_count": 60,
   "id": "04f03bf9-7e59-4639-9791-59fcd2b73901",
   "metadata": {},
   "outputs": [
    {
     "data": {
      "text/plain": [
       "<Figure size 640x480 with 0 Axes>"
      ]
     },
     "metadata": {},
     "output_type": "display_data"
    }
   ],
   "source": [
    "sns.countplot(data=df, x='sentiment')\n",
    "plt.title(\"Sentiment Distribution\")\n",
    "plt.savefig(\"datasets/sentiment_distribution.png\")\n",
    "plt.clf()"
   ]
  },
  {
   "cell_type": "code",
   "execution_count": 61,
   "id": "3f2ba299-473f-478c-af49-37dabbe3c657",
   "metadata": {},
   "outputs": [
    {
     "data": {
      "text/plain": [
       "<Figure size 640x480 with 0 Axes>"
      ]
     },
     "metadata": {},
     "output_type": "display_data"
    }
   ],
   "source": [
    "sentiment_over_time = df.groupby(df['timestamp'].dt.to_period('M'))['sentiment'].mean()\n",
    "sentiment_over_time.plot(kind='line')\n",
    "plt.title(\"Average Sentiment Over Time\")\n",
    "plt.savefig(\"datasets/sentiment_over_time.png\")\n",
    "plt.clf()"
   ]
  },
  {
   "cell_type": "markdown",
   "id": "a9e063e9-deeb-4931-9397-ecd563bac0fe",
   "metadata": {},
   "source": [
    "# --------------------------\n",
    "# Task 3 - Employee Monthly Sentiment Score\n",
    "# --------------------------"
   ]
  },
  {
   "cell_type": "code",
   "execution_count": 62,
   "id": "d5f1c63a-0be9-40ea-9fd8-b46a705cbce9",
   "metadata": {},
   "outputs": [],
   "source": [
    "df['month'] = df['timestamp'].dt.to_period('M')\n",
    "df['score'] = df['sentiment']  # already 1, 0, -1\n",
    "monthly_scores = df.groupby(['employee', 'month'])['score'].sum().reset_index()\n",
    "monthly_scores.to_csv(\"datasets/monthly_scores.csv\", index=False)"
   ]
  },
  {
   "cell_type": "code",
   "execution_count": 63,
   "id": "22d9afd9-1a23-432f-98c9-643aca1c1fca",
   "metadata": {},
   "outputs": [
    {
     "name": "stdout",
     "output_type": "stream",
     "text": [
      "Top 3 Positive for a sample month:\n",
      "          employee    month  score\n",
      "144  lydia delgado  2010-01      5\n",
      "192  rhonda denton  2010-01      1\n",
      "0    bobette riner  2010-01      0\n"
     ]
    }
   ],
   "source": [
    "rankings = []\n",
    "for period, group in monthly_scores.groupby('month'):\n",
    "    top = group.sort_values(by=['score', 'employee'], ascending=[False, True]).head(3)\n",
    "    bottom = group.sort_values(by=['score', 'employee']).head(3)\n",
    "    rankings.append((str(period), top, bottom))\n",
    "\n",
    "# Output example ranking\n",
    "print(\"Top 3 Positive for a sample month:\")\n",
    "print(rankings[0][1])"
   ]
  },
  {
   "cell_type": "markdown",
   "id": "1c364fea-db21-4729-86ea-593087ca5d52",
   "metadata": {},
   "source": [
    "# --------------------------\n",
    "# Task 5 - Flight Risk Identification\n",
    "# --------------------------"
   ]
  },
  {
   "cell_type": "code",
   "execution_count": 64,
   "id": "321bd67b-e78e-4b36-b6f8-f62088174b44",
   "metadata": {},
   "outputs": [],
   "source": [
    "negative_msgs = df[df['sentiment'] == -1].copy()\n",
    "negative_msgs.sort_values(['employee', 'timestamp'], inplace=True)"
   ]
  },
  {
   "cell_type": "code",
   "execution_count": 65,
   "id": "dc70dde8-916d-4094-a2b6-96d393175353",
   "metadata": {},
   "outputs": [],
   "source": [
    "from datetime import timedelta\n",
    "def identify_risks(df):\n",
    "    flagged = set()\n",
    "    for eid, group in df.groupby('employee'):\n",
    "        times = list(group['timestamp'])\n",
    "        for i in range(len(times)-3):\n",
    "            if (times[i+3] - times[i]) <= timedelta(days=30):\n",
    "                flagged.add(eid)\n",
    "                break\n",
    "    return list(flagged)"
   ]
  },
  {
   "cell_type": "code",
   "execution_count": 66,
   "id": "71aa6037-5da7-431c-99c7-ac6c8cb7a3dd",
   "metadata": {},
   "outputs": [
    {
     "name": "stdout",
     "output_type": "stream",
     "text": [
      "Flight Risk Employees: ['john arnold', 'patti thompson', 'eric bass', 'kayne coulter', 'rhonda denton', 'lydia delgado', 'johnny palmer', 'don baughman', 'bobette riner', 'sally beck']\n"
     ]
    }
   ],
   "source": [
    "flight_risks = identify_risks(negative_msgs)\n",
    "print(\"Flight Risk Employees:\", flight_risks)"
   ]
  },
  {
   "cell_type": "markdown",
   "id": "f292542d-1f3b-4c2e-b888-164957fec4d9",
   "metadata": {},
   "source": [
    "# --------------------------\n",
    "# Task 6 - Predictive Modeling\n",
    "# --------------------------"
   ]
  },
  {
   "cell_type": "code",
   "execution_count": 67,
   "id": "71879710-4b5f-48d6-a08c-3ed01a9a733d",
   "metadata": {},
   "outputs": [],
   "source": [
    "features = df.groupby(by=['from', 'month']).agg({\n",
    "    'Subject': 'count',\n",
    "    'message_length': 'mean',\n",
    "    'word_count': 'sum',\n",
    "    'score': 'sum'\n",
    "}).rename(columns={\n",
    "    'Subject': 'msg_count',\n",
    "    'message_length': 'avg_msg_length',\n",
    "    'word_count': 'total_word_count',\n",
    "    'score': 'sentiment_score'\n",
    "}).reset_index()"
   ]
  },
  {
   "cell_type": "code",
   "execution_count": 68,
   "id": "82a1231b-68c5-4470-a5d8-f8fbf0f0bfc1",
   "metadata": {},
   "outputs": [],
   "source": [
    "X = features[['msg_count', 'avg_msg_length', 'total_word_count']]\n",
    "y = features['sentiment_score']"
   ]
  },
  {
   "cell_type": "code",
   "execution_count": 69,
   "id": "b0e1a608-39da-4743-bf7f-5a8a60856819",
   "metadata": {},
   "outputs": [
    {
     "name": "stdout",
     "output_type": "stream",
     "text": [
      "MAE of sentiment prediction model: 2.58\n"
     ]
    }
   ],
   "source": [
    "X_train, X_test, y_train, y_test = train_test_split(X, y, random_state=42)\n",
    "model = LinearRegression()\n",
    "model.fit(X_train, y_train)\n",
    "pred = model.predict(X_test)\n",
    "mae = mean_absolute_error(y_test, pred)\n",
    "print(f\"MAE of sentiment prediction model: {mae:.2f}\")"
   ]
  },
  {
   "cell_type": "markdown",
   "id": "143c22b8-5c92-4a60-95eb-bee5911ee006",
   "metadata": {},
   "source": [
    "# --------------------------\n",
    "# 10. Summary \n",
    "# --------------------------"
   ]
  },
  {
   "cell_type": "code",
   "execution_count": 70,
   "id": "e54bf161-03a5-4fc6-93ba-69c0c7347d53",
   "metadata": {},
   "outputs": [
    {
     "name": "stdout",
     "output_type": "stream",
     "text": [
      "Top 3 Positive Employees in First Month:\n",
      "['lydia delgado' 'rhonda denton' 'bobette riner']\n"
     ]
    }
   ],
   "source": [
    "print(\"Top 3 Positive Employees in First Month:\")\n",
    "print(rankings[0][1]['employee'].values)"
   ]
  },
  {
   "cell_type": "code",
   "execution_count": 72,
   "id": "14cc3538-385e-46b9-aec2-a76c2034d07f",
   "metadata": {},
   "outputs": [
    {
     "name": "stdout",
     "output_type": "stream",
     "text": [
      "Top 3 Negative Employees in First Month:\n",
      "['kayne coulter' 'johnny palmer' 'don baughman']\n"
     ]
    }
   ],
   "source": [
    "print(\"Top 3 Negative Employees in First Month:\")\n",
    "print(rankings[0][2]['employee'].values)"
   ]
  },
  {
   "cell_type": "code",
   "execution_count": 73,
   "id": "d9004807-e70e-4518-9713-ba2a6b353864",
   "metadata": {},
   "outputs": [
    {
     "name": "stdout",
     "output_type": "stream",
     "text": [
      "Flight Risk Employees:\n",
      "['john arnold', 'patti thompson', 'eric bass', 'kayne coulter', 'rhonda denton', 'lydia delgado', 'johnny palmer', 'don baughman', 'bobette riner', 'sally beck']\n"
     ]
    }
   ],
   "source": [
    "print(\"Flight Risk Employees:\")\n",
    "print(flight_risks)"
   ]
  },
  {
   "cell_type": "code",
   "execution_count": null,
   "id": "84268819-04fa-4a48-af54-12a9d5fb1872",
   "metadata": {},
   "outputs": [],
   "source": []
  }
 ],
 "metadata": {
  "kernelspec": {
   "display_name": "Python 3 (ipykernel)",
   "language": "python",
   "name": "python3"
  },
  "language_info": {
   "codemirror_mode": {
    "name": "ipython",
    "version": 3
   },
   "file_extension": ".py",
   "mimetype": "text/x-python",
   "name": "python",
   "nbconvert_exporter": "python",
   "pygments_lexer": "ipython3",
   "version": "3.10.0"
  }
 },
 "nbformat": 4,
 "nbformat_minor": 5
}
